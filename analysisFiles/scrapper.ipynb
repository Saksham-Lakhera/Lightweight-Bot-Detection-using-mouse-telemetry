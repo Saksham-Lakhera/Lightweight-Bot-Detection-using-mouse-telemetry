{
 "cells": [
  {
   "cell_type": "markdown",
   "id": "c2f07e10",
   "metadata": {},
   "source": [
    "#### Level one Scrapping"
   ]
  },
  {
   "cell_type": "markdown",
   "id": "68f3b070",
   "metadata": {},
   "source": [
    "This file is to test if scrapping works on our system/POC"
   ]
  },
  {
   "cell_type": "code",
   "execution_count": null,
   "id": "c74de093",
   "metadata": {},
   "outputs": [],
   "source": [
    "import requests\n",
    "from bs4 import BeautifulSoup\n",
    "from urllib.parse import urljoin\n",
    "\n",
    "# Base URL\n",
    "url = 'http://127.0.0.1:5000'\n",
    "\n",
    "# Send Request\n",
    "response = requests.get(url)\n",
    "response.raise_for_status()  # raise error if not 200 OK\n",
    "\n",
    "# Parse HTML\n",
    "soup = BeautifulSoup(response.text, 'html.parser')\n",
    "\n",
    "# Extract Page Title\n",
    "print(\"Title:\", soup.title.string)\n",
    "\n",
    "# Extract All Links\n",
    "print(\"\\nLinks:\")\n",
    "for link in soup.find_all('a'):\n",
    "    href = link.get('href')\n",
    "    if href:\n",
    "        full_url = urljoin(url, href)\n",
    "        print(full_url)\n",
    "\n",
    "# Extract All Text\n",
    "print(\"\\nText Content:\")\n",
    "print(soup.get_text(separator=\"\\n\"))\n"
   ]
  }
 ],
 "metadata": {
  "kernelspec": {
   "display_name": "myenv",
   "language": "python",
   "name": "python3"
  },
  "language_info": {
   "codemirror_mode": {
    "name": "ipython",
    "version": 3
   },
   "file_extension": ".py",
   "mimetype": "text/x-python",
   "name": "python",
   "nbconvert_exporter": "python",
   "pygments_lexer": "ipython3",
   "version": "3.9.21"
  }
 },
 "nbformat": 4,
 "nbformat_minor": 5
}
