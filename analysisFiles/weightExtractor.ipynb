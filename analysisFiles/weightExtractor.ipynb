{
 "cells": [
  {
   "cell_type": "markdown",
   "id": "53036b14",
   "metadata": {},
   "source": [
    "#### This code is to extract our model weights that needs to run on server"
   ]
  },
  {
   "cell_type": "code",
   "execution_count": null,
   "id": "1008ae0f",
   "metadata": {},
   "outputs": [],
   "source": [
    "import torch\n",
    "import torch.nn as nn\n",
    "import math\n",
    "\n",
    "# Load model\n",
    "class FinalClassifier(nn.Module):\n",
    "    def __init__(self):\n",
    "        super(FinalClassifier, self).__init__()\n",
    "        self.fc2 = nn.Linear(2, 1)\n",
    "        self.sigmoid = nn.Sigmoid()\n",
    "\n",
    "    def forward(self, x):\n",
    "        return self.sigmoid(self.fc2(x))\n",
    "\n",
    "device = 'cpu'\n",
    "model = FinalClassifier().to(device)\n",
    "model.fc2.load_state_dict(torch.load('fc2_only2.pth', map_location=device))\n",
    "model.eval()"
   ]
  }
 ],
 "metadata": {
  "language_info": {
   "name": "python"
  }
 },
 "nbformat": 4,
 "nbformat_minor": 5
}
